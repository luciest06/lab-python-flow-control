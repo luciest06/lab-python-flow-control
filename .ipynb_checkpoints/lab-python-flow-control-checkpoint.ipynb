{
 "cells": [
  {
   "cell_type": "markdown",
   "id": "d3bfc191-8885-42ee-b0a0-bbab867c6f9f",
   "metadata": {
    "tags": []
   },
   "source": [
    "# Lab | Flow Control"
   ]
  },
  {
   "cell_type": "markdown",
   "id": "3851fcd1-cf98-4653-9c89-e003b7ec9400",
   "metadata": {},
   "source": [
    "## Exercise: Managing Customer Orders Optimized\n",
    "\n",
    "In the last lab, you were starting an online store that sells various products. To ensure smooth operations, you developed a program that manages customer orders and inventory.\n",
    "\n",
    "You did so without using flow control. Let's go a step further and improve this code.\n",
    "\n",
    "Follow the steps below to complete the exercise:\n",
    "\n",
    "1. Look at your code from the lab data structures, and improve repeated code with loops.\n",
    "\n",
    "2. Instead of asking the user to input the name of three products that a customer wants to order, do the following:\n",
    "    \n",
    "    a. Prompt the user to enter the name of a product that a customer wants to order.\n",
    "    \n",
    "    b. Add the product name to the \"customer_orders\" set.\n",
    "    \n",
    "    c. Ask the user if they want to add another product (yes/no).\n",
    "    \n",
    "    d. Continue the loop until the user does not want to add another product.\n",
    "\n",
    "3. Instead of updating the inventory by subtracting 1 from the quantity of each product, only do it for  the products that were ordered (those in \"customer_orders\")."
   ]
  },
  {
   "cell_type": "code",
   "execution_count": 3,
   "id": "c81eb878-3545-4267-854a-f6f34d562fcc",
   "metadata": {},
   "outputs": [
    {
     "name": "stdin",
     "output_type": "stream",
     "text": [
      "Please enter the t-shirt quantity:  3\n",
      "Please enter the mug quantity:  4\n",
      "Please enter the hat quantity:  5\n",
      "Please enter the book quantity:  7\n",
      "Please enter the keychain quantity:  8\n"
     ]
    },
    {
     "name": "stdout",
     "output_type": "stream",
     "text": [
      "{'t-shirt': 3, 'mug': 4, 'hat': 5, 'book': 7, 'keychain': 8}\n"
     ]
    }
   ],
   "source": [
    "#Q1\n",
    "products=[\"t-shirt\",\"mug\",\"hat\",\"book\",\"keychain\"]\n",
    "#Q2\n",
    "inventory={}\n",
    "\n",
    "#Q3\n",
    "for i in range(len(products)):\n",
    "    product_qtty=int(input(f\"Please enter the {products[i]} quantity: \"))\n",
    "    inventory[products[i]]=product_qtty\n",
    "print(inventory)"
   ]
  },
  {
   "cell_type": "code",
   "execution_count": 18,
   "id": "3d331b4a-4ea3-4cc1-9b5e-b8e88b1236cc",
   "metadata": {},
   "outputs": [
    {
     "name": "stdin",
     "output_type": "stream",
     "text": [
      "Please enter your first item you wish to order, you can order a t-shirt, a mug, a hat, a book, or a keychain:  hat\n",
      "Great choice! Do you want to add another product?  yes\n",
      "Pleaser enter the item you wish to order:  book\n",
      "Great choice! Do you want to add another product?  no\n"
     ]
    },
    {
     "name": "stdout",
     "output_type": "stream",
     "text": [
      "{'hat', 'book'}\n"
     ]
    }
   ],
   "source": [
    "#Q4\n",
    "customer_orders=set()\n",
    "\n",
    "#Q5    \n",
    "order=input(\"Please enter your first item you wish to order, you can order a t-shirt, a mug, a hat, a book, or a keychain: \").lower()\n",
    "customer_orders.add(order)\n",
    "\n",
    "while input(\"Great choice! Do you want to add another product? \").lower()==\"yes\":\n",
    "    order_additional=input(\"Pleaser enter the item you wish to order: \").lower()\n",
    "    customer_orders.add(order_additional)\n",
    "\n",
    "#Q6\n",
    "print(customer_orders)\n"
   ]
  },
  {
   "cell_type": "code",
   "execution_count": 20,
   "id": "9c6da861-9086-4b2e-b4c3-4aefe9da174c",
   "metadata": {},
   "outputs": [
    {
     "name": "stdout",
     "output_type": "stream",
     "text": [
      "2\n"
     ]
    }
   ],
   "source": [
    "#Q7\n",
    "total_products_ordered=len(customer_orders)\n",
    "print(total_products_ordered)"
   ]
  },
  {
   "cell_type": "code",
   "execution_count": 22,
   "id": "e6ac4f32-ab39-4bcd-8087-4b84350c9f94",
   "metadata": {},
   "outputs": [
    {
     "name": "stdout",
     "output_type": "stream",
     "text": [
      "7.4074074074074066\n"
     ]
    }
   ],
   "source": [
    "inventory.values()\n",
    "total_inventory=sum(inventory.values())\n",
    "percentage_products_ordered=(total_products_ordered/total_inventory)*100\n",
    "print(percentage_products_ordered)"
   ]
  },
  {
   "cell_type": "code",
   "execution_count": 24,
   "id": "e89b82bc-99f7-4306-8f7e-23617b1edde2",
   "metadata": {},
   "outputs": [
    {
     "name": "stdout",
     "output_type": "stream",
     "text": [
      "(2, 7.4074074074074066)\n"
     ]
    }
   ],
   "source": [
    "order_status=(total_products_ordered,percentage_products_ordered)\n",
    "print(order_status)"
   ]
  },
  {
   "cell_type": "code",
   "execution_count": 26,
   "id": "27a0bf9a-e033-4da0-9fea-793635cc4b02",
   "metadata": {},
   "outputs": [
    {
     "name": "stdout",
     "output_type": "stream",
     "text": [
      "Order Statistics: \n",
      "Total Products Ordered: 2\n",
      "Percentage of Products Ordered: 7.4074074074074066%\n"
     ]
    }
   ],
   "source": [
    "#Q8\n",
    "print(\"Order Statistics: \")\n",
    "print(f\"Total Products Ordered: {total_products_ordered}\")\n",
    "print(f\"Percentage of Products Ordered: {percentage_products_ordered}%\")"
   ]
  },
  {
   "cell_type": "code",
   "execution_count": 28,
   "id": "efb18241-fbf2-44aa-bdd2-48bcb1590ff3",
   "metadata": {},
   "outputs": [
    {
     "name": "stdout",
     "output_type": "stream",
     "text": [
      "{'t-shirt': 3, 'mug': 4, 'hat': 5, 'book': 7, 'keychain': 8}\n",
      "{'hat', 'book'}\n",
      "{'t-shirt': 3, 'mug': 4, 'hat': 4, 'book': 6, 'keychain': 8}\n"
     ]
    }
   ],
   "source": [
    "#Q9\n",
    "print(inventory)\n",
    "print(customer_orders)\n",
    "\n",
    "for product in customer_orders:\n",
    "    if product in inventory:\n",
    "        inventory[product]-=1\n",
    "print(inventory)"
   ]
  },
  {
   "cell_type": "code",
   "execution_count": 30,
   "id": "de3dc2d0-39e2-4972-a7df-a1951435a541",
   "metadata": {},
   "outputs": [
    {
     "name": "stdout",
     "output_type": "stream",
     "text": [
      "Updated inventory:\n",
      "t-shirt 3\n",
      "mug 4\n",
      "hat 4\n",
      "book 6\n",
      "keychain 8\n"
     ]
    }
   ],
   "source": [
    "#Q10\n",
    "print(\"Updated inventory:\")\n",
    "for order in inventory:\n",
    "    print(order,inventory[order])"
   ]
  },
  {
   "cell_type": "code",
   "execution_count": null,
   "id": "37d50942-ef13-4510-af02-401bcafa9e31",
   "metadata": {},
   "outputs": [],
   "source": []
  }
 ],
 "metadata": {
  "kernelspec": {
   "display_name": "Python 3 (ipykernel)",
   "language": "python",
   "name": "python3"
  },
  "language_info": {
   "codemirror_mode": {
    "name": "ipython",
    "version": 3
   },
   "file_extension": ".py",
   "mimetype": "text/x-python",
   "name": "python",
   "nbconvert_exporter": "python",
   "pygments_lexer": "ipython3",
   "version": "3.12.4"
  }
 },
 "nbformat": 4,
 "nbformat_minor": 5
}
